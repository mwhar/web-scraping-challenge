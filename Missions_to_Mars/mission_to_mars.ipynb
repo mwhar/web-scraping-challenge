{
 "cells": [
  {
   "cell_type": "code",
   "execution_count": 12,
   "id": "6699b965",
   "metadata": {},
   "outputs": [],
   "source": [
    "\n",
    "from bs4 import BeautifulSoup as bs\n",
    "from webdriver_manager.chrome import ChromeDriverManager\n",
    "from splinter import Browser\n",
    "import pandas as pd\n",
    "import pprint as pprint\n",
    "import pymongo"
   ]
  },
  {
   "cell_type": "code",
   "execution_count": 7,
   "id": "5ec456a6",
   "metadata": {},
   "outputs": [
    {
     "name": "stderr",
     "output_type": "stream",
     "text": [
      "\n",
      "\n",
      "====== WebDriver manager ======\n",
      "Current google-chrome version is 95.0.4638\n",
      "Get LATEST driver version for 95.0.4638\n",
      "Driver [/Users/margaretwharton/.wdm/drivers/chromedriver/mac64/95.0.4638.69/chromedriver] found in cache\n"
     ]
    }
   ],
   "source": [
    "executable_path = {'executable_path': ChromeDriverManager().install()}\n",
    "browser = Browser('chrome', **executable_path, headless=False)"
   ]
  },
  {
   "cell_type": "markdown",
   "id": "9453552b",
   "metadata": {},
   "source": [
    "## NASA Mars News"
   ]
  },
  {
   "cell_type": "code",
   "execution_count": 13,
   "id": "012010fb",
   "metadata": {},
   "outputs": [],
   "source": [
    "# Visit the URL for mars news\n",
    "url = 'https://redplanetscience.com/'\n",
    "browser.visit(url)\n",
    "\n",
    "# pull html into Beautiful Soup parser\n",
    "html=browser.html\n",
    "soup=bs(html, 'html.parser')"
   ]
  },
  {
   "cell_type": "code",
   "execution_count": 14,
   "id": "10ffd956",
   "metadata": {},
   "outputs": [
    {
     "name": "stdout",
     "output_type": "stream",
     "text": [
      "News title: InSight's 'Mole' Team Peers into the Pit\n",
      "News Paragraph: Efforts to save the heat probe continue.\n",
      "-------------------------------\n",
      "News title: NASA's Curiosity Mars Rover Takes a New Selfie Before Record Climb\n",
      "News Paragraph: Along with capturing an image before its steepest ascent ever, the robotic explorer filmed its \"selfie stick,\" or robotic arm, in action.\n",
      "-------------------------------\n",
      "News title: A Martian Roundtrip: NASA's Perseverance Rover Sample Tubes\n",
      "News Paragraph: Marvels of engineering, the rover's sample tubes must be tough enough to safely bring Red Planet samples on the long journey back to Earth in immaculate condition. \n",
      "-------------------------------\n",
      "News title: NASA's Mars 2020 Rover Goes Coast-to-Coast to Prep for Launch\n",
      "News Paragraph: The agency's first step in returning rocks from Mars just arrived at Kennedy Space Center. The Mars 2020 team now begins readying for a launch to the Red Planet this July.\n",
      "-------------------------------\n",
      "News title: New Selfie Shows Curiosity, the Mars Chemist\n",
      "News Paragraph: The NASA rover performed a special chemistry experiment at the location captured in its newest self-portrait.\n",
      "-------------------------------\n",
      "News title: Mars 2020 Unwrapped and Ready for More Testing\n",
      "News Paragraph: In time-lapse video, bunny-suited engineers remove the inner layer of protective foil on NASA's Mars 2020 rover after it was relocated for testing.\n",
      "-------------------------------\n",
      "News title: The Detective Aboard NASA's Perseverance Rover\n",
      "News Paragraph: An instrument called SHERLOC will, with the help of its partner WATSON, hunt for signs of ancient life by detecting organic molecules and minerals.\n",
      "-------------------------------\n",
      "News title: NASA's Curiosity Keeps Rolling As Team Operates Rover From Home\n",
      "News Paragraph: The team has learned to meet new challenges as they work remotely on the Mars mission.\n",
      "-------------------------------\n",
      "News title: Scientists Explore Outback as Testbed for Mars \n",
      "News Paragraph: Australia provides a great place for NASA's Mars 2020 and the ESA-Roscosmos ExoMars scientists to hone techniques in preparation for searching for signs ancient life on Mars.\n",
      "-------------------------------\n",
      "News title: NASA's Push to Save the Mars InSight Lander's Heat Probe\n",
      "News Paragraph: The scoop on the end of the spacecraft's robotic arm will be used to 'pin' the mole against the wall of its hole.\n",
      "-------------------------------\n",
      "News title: NASA's MAVEN Observes Martian Night Sky Pulsing in Ultraviolet Light\n",
      "News Paragraph: Vast areas of the Martian night sky pulse in ultraviolet light, according to images from NASA’s MAVEN spacecraft. The results are being used to illuminate complex circulation patterns in the Martian atmosphere.\n",
      "-------------------------------\n",
      "News title: While Stargazing on Mars, NASA's Curiosity Rover Spots Earth and Venus\n",
      "News Paragraph: This new portrait of the Red Planet's neighbors was taken during a time when there's more dust in the air on Mars.\n",
      "-------------------------------\n",
      "News title: NASA's Perseverance Rover Will Look at Mars Through These 'Eyes'\n",
      "News Paragraph: A pair of zoomable cameras will help scientists and rover drivers with high-resolution color images.\n",
      "-------------------------------\n",
      "News title: NASA's Perseverance Rover 100 Days Out\n",
      "News Paragraph: Mark your calendars: The agency's latest rover has only about 8,640,000 seconds to go before it touches down on the Red Planet, becoming history's next Mars car.\n",
      "-------------------------------\n",
      "News title: NASA to Hold Mars 2020 Perseverance Rover Launch Briefing\n",
      "News Paragraph: Learn more about the agency's next Red Planet mission during a live event on June 17.\n",
      "-------------------------------\n"
     ]
    }
   ],
   "source": [
    "# results are returned as an iterable list\n",
    "news_elements = soup.find_all('div', class_='list_text')\n",
    "\n",
    "# loop through the results to find news titleand paragraph\n",
    "for news_element in news_elements:\n",
    "    news_titles = news_element.find('div', class_='content_title')\n",
    "    news_p = news_element.find('div', class_='article_teaser_body')    \n",
    "    print(f'News title: {news_titles.text}')\n",
    "    print(f'News Paragraph: {news_p.text}')\n",
    "    print(f'-------------------------------')"
   ]
  },
  {
   "cell_type": "code",
   "execution_count": null,
   "id": "c08aed71",
   "metadata": {},
   "outputs": [],
   "source": []
  }
 ],
 "metadata": {
  "kernelspec": {
   "display_name": "Python 3",
   "language": "python",
   "name": "python3"
  },
  "language_info": {
   "codemirror_mode": {
    "name": "ipython",
    "version": 3
   },
   "file_extension": ".py",
   "mimetype": "text/x-python",
   "name": "python",
   "nbconvert_exporter": "python",
   "pygments_lexer": "ipython3",
   "version": "3.8.8"
  }
 },
 "nbformat": 4,
 "nbformat_minor": 5
}
